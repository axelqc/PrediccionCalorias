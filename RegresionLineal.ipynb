{
  "nbformat": 4,
  "nbformat_minor": 0,
  "metadata": {
    "colab": {
      "provenance": []
    },
    "kernelspec": {
      "name": "python3",
      "display_name": "Python 3"
    },
    "language_info": {
      "name": "python"
    }
  },
  "cells": [
    {
      "cell_type": "markdown",
      "metadata": {
        "id": "qLLWQofLzrKK"
      },
      "source": [
        "### Implementación y visualización de una regresión lineal múltiple en Python\n"
      ]
    },
    {
      "cell_type": "markdown",
      "metadata": {
        "id": "44yoi7vpxJuL"
      },
      "source": [
        "\n",
        "Nombre: Axel Quiroga\n",
        "\n",
        "\n",
        "ID: A00832676\n",
        "\n",
        "Materia: Matemáticas y ciencias de datos para la toma de decisiones\n",
        "\n",
        "\n",
        "Profesor:  Ivan Martínez Ruiz y Germán Domínguez Solís\n",
        "\n",
        "\n",
        "Fecha: 11/14/2021\n",
        "\n",
        "\n",
        "Link: https://colab.research.google.com/drive/15aGHy2SwK-_-ThZ6rXZu2PEFZp7gixP0?usp=sharing"
      ]
    },
    {
      "cell_type": "code",
      "metadata": {
        "id": "TW8xyJH3X_3Q"
      },
      "source": [
        "import pandas as pd\n",
        "from sklearn.model_selection import train_test_split\n",
        "import matplotlib.pyplot as plt\n",
        "import numpy as np\n",
        "from sklearn.linear_model import LogisticRegression\n",
        "from sklearn.linear_model import LinearRegression\n",
        "from sklearn.metrics import r2_score\n",
        "\n",
        "datos_consumo = pd.read_excel('A00832676_Registro-1.xlsx')"
      ],
      "execution_count": null,
      "outputs": []
    },
    {
      "cell_type": "code",
      "metadata": {
        "colab": {
          "base_uri": "https://localhost:8080/",
          "height": 306
        },
        "id": "2KnbTGHtxGtm",
        "outputId": "7cc3fad7-4335-47c5-a2ce-a16f8e4c649e"
      },
      "source": [
        "datos_consumo.head()"
      ],
      "execution_count": null,
      "outputs": [
        {
          "output_type": "execute_result",
          "data": {
            "text/html": [
              "<div>\n",
              "<style scoped>\n",
              "    .dataframe tbody tr th:only-of-type {\n",
              "        vertical-align: middle;\n",
              "    }\n",
              "\n",
              "    .dataframe tbody tr th {\n",
              "        vertical-align: top;\n",
              "    }\n",
              "\n",
              "    .dataframe thead th {\n",
              "        text-align: right;\n",
              "    }\n",
              "</style>\n",
              "<table border=\"1\" class=\"dataframe\">\n",
              "  <thead>\n",
              "    <tr style=\"text-align: right;\">\n",
              "      <th></th>\n",
              "      <th>Fecha (dd/mm/aa)</th>\n",
              "      <th>Momento</th>\n",
              "      <th>Nombre alimento</th>\n",
              "      <th>Calorías (kcal)</th>\n",
              "      <th>Carbohidratos (g)</th>\n",
              "      <th>Lípidos/grasas (g)</th>\n",
              "      <th>Proteína (g)</th>\n",
              "      <th>Sodio (mg)</th>\n",
              "    </tr>\n",
              "  </thead>\n",
              "  <tbody>\n",
              "    <tr>\n",
              "      <th>0</th>\n",
              "      <td>16/08/2021</td>\n",
              "      <td>Desayuno</td>\n",
              "      <td>Atun en lata</td>\n",
              "      <td>93</td>\n",
              "      <td>2.32</td>\n",
              "      <td>1.00</td>\n",
              "      <td>21.00</td>\n",
              "      <td>260.0</td>\n",
              "    </tr>\n",
              "    <tr>\n",
              "      <th>1</th>\n",
              "      <td>16/08/2021</td>\n",
              "      <td>Snack</td>\n",
              "      <td>Rebanada de pastel</td>\n",
              "      <td>340</td>\n",
              "      <td>50.73</td>\n",
              "      <td>14.34</td>\n",
              "      <td>5.04</td>\n",
              "      <td>299.0</td>\n",
              "    </tr>\n",
              "    <tr>\n",
              "      <th>2</th>\n",
              "      <td>16/08/2021</td>\n",
              "      <td>Comida</td>\n",
              "      <td>Carne molida</td>\n",
              "      <td>276</td>\n",
              "      <td>1.32</td>\n",
              "      <td>18.58</td>\n",
              "      <td>23.35</td>\n",
              "      <td>400.0</td>\n",
              "    </tr>\n",
              "    <tr>\n",
              "      <th>3</th>\n",
              "      <td>16/08/2021</td>\n",
              "      <td>Comida</td>\n",
              "      <td>1 quesadilla</td>\n",
              "      <td>171</td>\n",
              "      <td>10.53</td>\n",
              "      <td>9.90</td>\n",
              "      <td>9.50</td>\n",
              "      <td>409.0</td>\n",
              "    </tr>\n",
              "    <tr>\n",
              "      <th>4</th>\n",
              "      <td>16/08/2021</td>\n",
              "      <td>Comida</td>\n",
              "      <td>Ensalada</td>\n",
              "      <td>12</td>\n",
              "      <td>2.77</td>\n",
              "      <td>0.12</td>\n",
              "      <td>0.63</td>\n",
              "      <td>14.0</td>\n",
              "    </tr>\n",
              "  </tbody>\n",
              "</table>\n",
              "</div>"
            ],
            "text/plain": [
              "  Fecha (dd/mm/aa)   Momento  ... Proteína (g)  Sodio (mg)\n",
              "0       16/08/2021  Desayuno  ...        21.00       260.0\n",
              "1       16/08/2021     Snack  ...         5.04       299.0\n",
              "2       16/08/2021   Comida   ...        23.35       400.0\n",
              "3       16/08/2021   Comida   ...         9.50       409.0\n",
              "4       16/08/2021   Comida   ...         0.63        14.0\n",
              "\n",
              "[5 rows x 8 columns]"
            ]
          },
          "metadata": {},
          "execution_count": 6
        }
      ]
    },
    {
      "cell_type": "code",
      "metadata": {
        "colab": {
          "base_uri": "https://localhost:8080/",
          "height": 239
        },
        "id": "s7SnYzJX0CQc",
        "outputId": "25da2839-07bb-404b-fae0-34396bcb3390"
      },
      "source": [
        "datos_consumo.groupby(\"Momento\").count()"
      ],
      "execution_count": null,
      "outputs": [
        {
          "output_type": "execute_result",
          "data": {
            "text/html": [
              "<div>\n",
              "<style scoped>\n",
              "    .dataframe tbody tr th:only-of-type {\n",
              "        vertical-align: middle;\n",
              "    }\n",
              "\n",
              "    .dataframe tbody tr th {\n",
              "        vertical-align: top;\n",
              "    }\n",
              "\n",
              "    .dataframe thead th {\n",
              "        text-align: right;\n",
              "    }\n",
              "</style>\n",
              "<table border=\"1\" class=\"dataframe\">\n",
              "  <thead>\n",
              "    <tr style=\"text-align: right;\">\n",
              "      <th></th>\n",
              "      <th>Fecha (dd/mm/aa)</th>\n",
              "      <th>Nombre alimento</th>\n",
              "      <th>Calorías (kcal)</th>\n",
              "      <th>Carbohidratos (g)</th>\n",
              "      <th>Lípidos/grasas (g)</th>\n",
              "      <th>Proteína (g)</th>\n",
              "      <th>Sodio (mg)</th>\n",
              "    </tr>\n",
              "    <tr>\n",
              "      <th>Momento</th>\n",
              "      <th></th>\n",
              "      <th></th>\n",
              "      <th></th>\n",
              "      <th></th>\n",
              "      <th></th>\n",
              "      <th></th>\n",
              "      <th></th>\n",
              "    </tr>\n",
              "  </thead>\n",
              "  <tbody>\n",
              "    <tr>\n",
              "      <th>Cena</th>\n",
              "      <td>68</td>\n",
              "      <td>68</td>\n",
              "      <td>68</td>\n",
              "      <td>68</td>\n",
              "      <td>68</td>\n",
              "      <td>68</td>\n",
              "      <td>68</td>\n",
              "    </tr>\n",
              "    <tr>\n",
              "      <th>Comida</th>\n",
              "      <td>127</td>\n",
              "      <td>127</td>\n",
              "      <td>127</td>\n",
              "      <td>127</td>\n",
              "      <td>127</td>\n",
              "      <td>127</td>\n",
              "      <td>127</td>\n",
              "    </tr>\n",
              "    <tr>\n",
              "      <th>Desayuno</th>\n",
              "      <td>75</td>\n",
              "      <td>75</td>\n",
              "      <td>75</td>\n",
              "      <td>75</td>\n",
              "      <td>75</td>\n",
              "      <td>75</td>\n",
              "      <td>75</td>\n",
              "    </tr>\n",
              "    <tr>\n",
              "      <th>Snack</th>\n",
              "      <td>15</td>\n",
              "      <td>15</td>\n",
              "      <td>15</td>\n",
              "      <td>15</td>\n",
              "      <td>15</td>\n",
              "      <td>15</td>\n",
              "      <td>15</td>\n",
              "    </tr>\n",
              "  </tbody>\n",
              "</table>\n",
              "</div>"
            ],
            "text/plain": [
              "          Fecha (dd/mm/aa)  Nombre alimento  ...  Proteína (g)  Sodio (mg)\n",
              "Momento                                      ...                          \n",
              "Cena                    68               68  ...            68          68\n",
              "Comida                 127              127  ...           127         127\n",
              "Desayuno                75               75  ...            75          75\n",
              "Snack                   15               15  ...            15          15\n",
              "\n",
              "[4 rows x 7 columns]"
            ]
          },
          "metadata": {},
          "execution_count": 24
        }
      ]
    },
    {
      "cell_type": "code",
      "metadata": {
        "colab": {
          "base_uri": "https://localhost:8080/",
          "height": 248
        },
        "id": "cLYAzvn81JgW",
        "outputId": "6fb3d538-00ad-4072-e706-46830dcd6151"
      },
      "source": [
        "momentos = [\"Cena\", \"Comida\", \"Desayuno\", \"Snack\"]\n",
        "valores_momentos = [68, 127, 75, 15]\n",
        "plt.pie(valores_momentos, labels=momentos)\n",
        "plt.show()"
      ],
      "execution_count": null,
      "outputs": [
        {
          "output_type": "display_data",
          "data": {
            "image/png": "[encoded data removed]",
            "text/plain": [
              "<Figure size 432x288 with 1 Axes>"
            ]
          },
          "metadata": {}
        }
      ]
    },
    {
      "cell_type": "code",
      "metadata": {
        "colab": {
          "base_uri": "https://localhost:8080/",
          "height": 331
        },
        "id": "PsFZ6wTR0kcc",
        "outputId": "7f04f40b-3a9a-455e-ecda-78beac489635"
      },
      "source": [
        "datos_consumo.describe()"
      ],
      "execution_count": null,
      "outputs": [
        {
          "output_type": "execute_result",
          "data": {
            "text/html": [
              "<div>\n",
              "<style scoped>\n",
              "    .dataframe tbody tr th:only-of-type {\n",
              "        vertical-align: middle;\n",
              "    }\n",
              "\n",
              "    .dataframe tbody tr th {\n",
              "        vertical-align: top;\n",
              "    }\n",
              "\n",
              "    .dataframe thead th {\n",
              "        text-align: right;\n",
              "    }\n",
              "</style>\n",
              "<table border=\"1\" class=\"dataframe\">\n",
              "  <thead>\n",
              "    <tr style=\"text-align: right;\">\n",
              "      <th></th>\n",
              "      <th>Calorías (kcal)</th>\n",
              "      <th>Carbohidratos (g)</th>\n",
              "      <th>Lípidos/grasas (g)</th>\n",
              "      <th>Proteína (g)</th>\n",
              "      <th>Sodio (mg)</th>\n",
              "    </tr>\n",
              "  </thead>\n",
              "  <tbody>\n",
              "    <tr>\n",
              "      <th>count</th>\n",
              "      <td>285.000000</td>\n",
              "      <td>285.000000</td>\n",
              "      <td>285.000000</td>\n",
              "      <td>285.000000</td>\n",
              "      <td>285.000000</td>\n",
              "    </tr>\n",
              "    <tr>\n",
              "      <th>mean</th>\n",
              "      <td>209.957895</td>\n",
              "      <td>20.639860</td>\n",
              "      <td>8.541965</td>\n",
              "      <td>11.910807</td>\n",
              "      <td>318.444912</td>\n",
              "    </tr>\n",
              "    <tr>\n",
              "      <th>std</th>\n",
              "      <td>134.960368</td>\n",
              "      <td>22.223109</td>\n",
              "      <td>10.574901</td>\n",
              "      <td>11.430851</td>\n",
              "      <td>346.628131</td>\n",
              "    </tr>\n",
              "    <tr>\n",
              "      <th>min</th>\n",
              "      <td>12.000000</td>\n",
              "      <td>0.070000</td>\n",
              "      <td>0.080000</td>\n",
              "      <td>0.360000</td>\n",
              "      <td>0.900000</td>\n",
              "    </tr>\n",
              "    <tr>\n",
              "      <th>25%</th>\n",
              "      <td>93.000000</td>\n",
              "      <td>2.860000</td>\n",
              "      <td>1.000000</td>\n",
              "      <td>2.350000</td>\n",
              "      <td>30.000000</td>\n",
              "    </tr>\n",
              "    <tr>\n",
              "      <th>50%</th>\n",
              "      <td>221.000000</td>\n",
              "      <td>18.000000</td>\n",
              "      <td>6.000000</td>\n",
              "      <td>9.060000</td>\n",
              "      <td>242.000000</td>\n",
              "    </tr>\n",
              "    <tr>\n",
              "      <th>75%</th>\n",
              "      <td>297.000000</td>\n",
              "      <td>30.000000</td>\n",
              "      <td>13.210000</td>\n",
              "      <td>17.000000</td>\n",
              "      <td>512.000000</td>\n",
              "    </tr>\n",
              "    <tr>\n",
              "      <th>max</th>\n",
              "      <td>950.000000</td>\n",
              "      <td>200.000000</td>\n",
              "      <td>121.200000</td>\n",
              "      <td>70.000000</td>\n",
              "      <td>1810.000000</td>\n",
              "    </tr>\n",
              "  </tbody>\n",
              "</table>\n",
              "</div>"
            ],
            "text/plain": [
              "       Calorías (kcal)  Carbohidratos (g)  ...  Proteína (g)   Sodio (mg)\n",
              "count       285.000000         285.000000  ...    285.000000   285.000000\n",
              "mean        209.957895          20.639860  ...     11.910807   318.444912\n",
              "std         134.960368          22.223109  ...     11.430851   346.628131\n",
              "min          12.000000           0.070000  ...      0.360000     0.900000\n",
              "25%          93.000000           2.860000  ...      2.350000    30.000000\n",
              "50%         221.000000          18.000000  ...      9.060000   242.000000\n",
              "75%         297.000000          30.000000  ...     17.000000   512.000000\n",
              "max         950.000000         200.000000  ...     70.000000  1810.000000\n",
              "\n",
              "[8 rows x 5 columns]"
            ]
          },
          "metadata": {},
          "execution_count": 8
        }
      ]
    },
    {
      "cell_type": "code",
      "metadata": {
        "colab": {
          "base_uri": "https://localhost:8080/",
          "height": 219
        },
        "id": "ZLclohZH3ZCn",
        "outputId": "78063f22-1635-4ead-8c22-209ef4786236"
      },
      "source": [
        "datos_seleccionados = datos_consumo.iloc[:,3:8]\n",
        "datos_seleccionados.head()"
      ],
      "execution_count": null,
      "outputs": [
        {
          "output_type": "execute_result",
          "data": {
            "text/html": [
              "<div>\n",
              "<style scoped>\n",
              "    .dataframe tbody tr th:only-of-type {\n",
              "        vertical-align: middle;\n",
              "    }\n",
              "\n",
              "    .dataframe tbody tr th {\n",
              "        vertical-align: top;\n",
              "    }\n",
              "\n",
              "    .dataframe thead th {\n",
              "        text-align: right;\n",
              "    }\n",
              "</style>\n",
              "<table border=\"1\" class=\"dataframe\">\n",
              "  <thead>\n",
              "    <tr style=\"text-align: right;\">\n",
              "      <th></th>\n",
              "      <th>Calorías (kcal)</th>\n",
              "      <th>Carbohidratos (g)</th>\n",
              "      <th>Lípidos/grasas (g)</th>\n",
              "      <th>Proteína (g)</th>\n",
              "      <th>Sodio (mg)</th>\n",
              "    </tr>\n",
              "  </thead>\n",
              "  <tbody>\n",
              "    <tr>\n",
              "      <th>0</th>\n",
              "      <td>93</td>\n",
              "      <td>2.32</td>\n",
              "      <td>1.00</td>\n",
              "      <td>21.00</td>\n",
              "      <td>260.0</td>\n",
              "    </tr>\n",
              "    <tr>\n",
              "      <th>1</th>\n",
              "      <td>340</td>\n",
              "      <td>50.73</td>\n",
              "      <td>14.34</td>\n",
              "      <td>5.04</td>\n",
              "      <td>299.0</td>\n",
              "    </tr>\n",
              "    <tr>\n",
              "      <th>2</th>\n",
              "      <td>276</td>\n",
              "      <td>1.32</td>\n",
              "      <td>18.58</td>\n",
              "      <td>23.35</td>\n",
              "      <td>400.0</td>\n",
              "    </tr>\n",
              "    <tr>\n",
              "      <th>3</th>\n",
              "      <td>171</td>\n",
              "      <td>10.53</td>\n",
              "      <td>9.90</td>\n",
              "      <td>9.50</td>\n",
              "      <td>409.0</td>\n",
              "    </tr>\n",
              "    <tr>\n",
              "      <th>4</th>\n",
              "      <td>12</td>\n",
              "      <td>2.77</td>\n",
              "      <td>0.12</td>\n",
              "      <td>0.63</td>\n",
              "      <td>14.0</td>\n",
              "    </tr>\n",
              "  </tbody>\n",
              "</table>\n",
              "</div>"
            ],
            "text/plain": [
              "   Calorías (kcal)  Carbohidratos (g)  ...  Proteína (g)  Sodio (mg)\n",
              "0               93               2.32  ...         21.00       260.0\n",
              "1              340              50.73  ...          5.04       299.0\n",
              "2              276               1.32  ...         23.35       400.0\n",
              "3              171              10.53  ...          9.50       409.0\n",
              "4               12               2.77  ...          0.63        14.0\n",
              "\n",
              "[5 rows x 5 columns]"
            ]
          },
          "metadata": {},
          "execution_count": 40
        }
      ]
    },
    {
      "cell_type": "code",
      "metadata": {
        "colab": {
          "base_uri": "https://localhost:8080/"
        },
        "id": "GFv9FU8g3hk-",
        "outputId": "d5d8692f-dbf7-418d-c01a-d4be72dcee61"
      },
      "source": [
        "datos_seleccionados.info()"
      ],
      "execution_count": null,
      "outputs": [
        {
          "output_type": "stream",
          "name": "stdout",
          "text": [
            "<class 'pandas.core.frame.DataFrame'>\n",
            "RangeIndex: 285 entries, 0 to 284\n",
            "Data columns (total 5 columns):\n",
            " #   Column              Non-Null Count  Dtype  \n",
            "---  ------              --------------  -----  \n",
            " 0   Calorías (kcal)     285 non-null    int64  \n",
            " 1   Carbohidratos (g)   285 non-null    float64\n",
            " 2   Lípidos/grasas (g)  285 non-null    float64\n",
            " 3   Proteína (g)        285 non-null    float64\n",
            " 4   Sodio (mg)          285 non-null    float64\n",
            "dtypes: float64(4), int64(1)\n",
            "memory usage: 11.3 KB\n"
          ]
        }
      ]
    },
    {
      "cell_type": "code",
      "metadata": {
        "colab": {
          "base_uri": "https://localhost:8080/"
        },
        "id": "CRbO3ehJ31Ql",
        "outputId": "33ae4015-6203-4ddb-8c26-a2fca5c6ee27"
      },
      "source": [
        "datos_seleccionados.isnull().values.any()"
      ],
      "execution_count": null,
      "outputs": [
        {
          "output_type": "execute_result",
          "data": {
            "text/plain": [
              "False"
            ]
          },
          "metadata": {},
          "execution_count": 32
        }
      ]
    },
    {
      "cell_type": "code",
      "metadata": {
        "colab": {
          "base_uri": "https://localhost:8080/"
        },
        "id": "UESrligi4Exl",
        "outputId": "aa8006d3-bb2c-4252-e641-00933bcd5f72"
      },
      "source": [
        "datos_seleccionados.isnull().sum()"
      ],
      "execution_count": null,
      "outputs": [
        {
          "output_type": "execute_result",
          "data": {
            "text/plain": [
              "Calorías (kcal)       0\n",
              "Carbohidratos (g)     0\n",
              "Lípidos/grasas (g)    0\n",
              "Proteína (g)          0\n",
              "Sodio (mg)            0\n",
              "dtype: int64"
            ]
          },
          "metadata": {},
          "execution_count": 34
        }
      ]
    },
    {
      "cell_type": "code",
      "metadata": {
        "id": "HPJaQ4qZ4aMV"
      },
      "source": [
        "datos_seleccionados.columns #ver nombres de las columnas\n",
        "\n",
        "X = datos_seleccionados[['Carbohidratos (g)', 'Lípidos/grasas (g)',\n",
        "       'Proteína (g)', 'Sodio (mg)']].values #variables independientes\n",
        "\n",
        "y = datos_seleccionados['Calorías (kcal)'].values #variable dependiente"
      ],
      "execution_count": null,
      "outputs": []
    },
    {
      "cell_type": "code",
      "metadata": {
        "id": "Zo4OAfhZ67Nn"
      },
      "source": [
        "X_train, X_test, y_train, y_test = train_test_split(X, y, test_size=0.2, random_state=0) #20 de prueba"
      ],
      "execution_count": null,
      "outputs": []
    },
    {
      "cell_type": "code",
      "metadata": {
        "id": "QBY1YUlp7zwW"
      },
      "source": [
        "modelo_regresion_Lin = LinearRegression()\n",
        "modelo_regresion_Log = LogisticRegression() #Quisiera ver como cambia la exactitud con una regresion logistica"
      ],
      "execution_count": null,
      "outputs": []
    },
    {
      "cell_type": "code",
      "metadata": {
        "colab": {
          "base_uri": "https://localhost:8080/"
        },
        "id": "kJSQ-YqA8D0l",
        "outputId": "236210f0-2d12-478e-d7b4-0fbcea6b58b5"
      },
      "source": [
        "modelo_regresion_Lin.fit(X_train, y_train)\n",
        "modelo_regresion_Log.fit(X_train, y_train)"
      ],
      "execution_count": null,
      "outputs": [
        {
          "output_type": "stream",
          "name": "stderr",
          "text": [
            "/usr/local/lib/python3.7/dist-packages/sklearn/linear_model/_logistic.py:940: ConvergenceWarning: lbfgs failed to converge (status=1):\n",
            "STOP: TOTAL NO. of ITERATIONS REACHED LIMIT.\n",
            "\n",
            "Increase the number of iterations (max_iter) or scale the data as shown in:\n",
            "    https://scikit-learn.org/stable/modules/preprocessing.html\n",
            "Please also refer to the documentation for alternative solver options:\n",
            "    https://scikit-learn.org/stable/modules/linear_model.html#logistic-regression\n",
            "  extra_warning_msg=_LOGISTIC_SOLVER_CONVERGENCE_MSG)\n"
          ]
        },
        {
          "output_type": "execute_result",
          "data": {
            "text/plain": [
              "LogisticRegression(C=1.0, class_weight=None, dual=False, fit_intercept=True,\n",
              "                   intercept_scaling=1, l1_ratio=None, max_iter=100,\n",
              "                   multi_class='auto', n_jobs=None, penalty='l2',\n",
              "                   random_state=None, solver='lbfgs', tol=0.0001, verbose=0,\n",
              "                   warm_start=False)"
            ]
          },
          "metadata": {},
          "execution_count": 61
        }
      ]
    },
    {
      "cell_type": "code",
      "metadata": {
        "colab": {
          "base_uri": "https://localhost:8080/",
          "height": 172
        },
        "id": "Ny2amQpZ8gdR",
        "outputId": "c62083b3-d026-4fc7-c92b-3288c6704705"
      },
      "source": [
        "#Regresion lineal\n",
        "x_columns_Lin = ['Carbohidratos (g)', 'Lípidos/grasas (g)', 'Proteína (g)', 'Sodio (mg)']\n",
        "coeff_df_Lin = pd.DataFrame(modelo_regresion_Lin.coef_, x_columns_Lin, columns=['Coeficientes'])\n",
        "coeff_df_Lin"
      ],
      "execution_count": null,
      "outputs": [
        {
          "output_type": "execute_result",
          "data": {
            "text/html": [
              "<div>\n",
              "<style scoped>\n",
              "    .dataframe tbody tr th:only-of-type {\n",
              "        vertical-align: middle;\n",
              "    }\n",
              "\n",
              "    .dataframe tbody tr th {\n",
              "        vertical-align: top;\n",
              "    }\n",
              "\n",
              "    .dataframe thead th {\n",
              "        text-align: right;\n",
              "    }\n",
              "</style>\n",
              "<table border=\"1\" class=\"dataframe\">\n",
              "  <thead>\n",
              "    <tr style=\"text-align: right;\">\n",
              "      <th></th>\n",
              "      <th>Coeficientes</th>\n",
              "    </tr>\n",
              "  </thead>\n",
              "  <tbody>\n",
              "    <tr>\n",
              "      <th>Carbohidratos (g)</th>\n",
              "      <td>2.230225</td>\n",
              "    </tr>\n",
              "    <tr>\n",
              "      <th>Lípidos/grasas (g)</th>\n",
              "      <td>4.169770</td>\n",
              "    </tr>\n",
              "    <tr>\n",
              "      <th>Proteína (g)</th>\n",
              "      <td>1.092290</td>\n",
              "    </tr>\n",
              "    <tr>\n",
              "      <th>Sodio (mg)</th>\n",
              "      <td>0.151956</td>\n",
              "    </tr>\n",
              "  </tbody>\n",
              "</table>\n",
              "</div>"
            ],
            "text/plain": [
              "                    Coeficientes\n",
              "Carbohidratos (g)       2.230225\n",
              "Lípidos/grasas (g)      4.169770\n",
              "Proteína (g)            1.092290\n",
              "Sodio (mg)              0.151956"
            ]
          },
          "metadata": {},
          "execution_count": 64
        }
      ]
    },
    {
      "cell_type": "code",
      "metadata": {
        "id": "jHwiEOZm-xMZ"
      },
      "source": [
        "y_pred = modelo_regresion_Lin.predict(X_test) # R. lineal"
      ],
      "execution_count": null,
      "outputs": []
    },
    {
      "cell_type": "code",
      "metadata": {
        "id": "o7WY47h8-4hw"
      },
      "source": [
        "y_pred_Log = modelo_regresion_Log.predict(X_test) # R. log"
      ],
      "execution_count": null,
      "outputs": []
    },
    {
      "cell_type": "code",
      "metadata": {
        "colab": {
          "base_uri": "https://localhost:8080/",
          "height": 294
        },
        "id": "MxiwtDAT_AAR",
        "outputId": "f62dac5b-82b2-48e9-92df-8e9f53247873"
      },
      "source": [
        "validacion = pd.DataFrame({'Actual': y_test, 'Predicción': y_pred, 'Diferencia': y_test-y_pred})\n",
        "muestra_validacion = validacion.head(8)\n",
        "muestra_validacion"
      ],
      "execution_count": null,
      "outputs": [
        {
          "output_type": "execute_result",
          "data": {
            "text/html": [
              "<div>\n",
              "<style scoped>\n",
              "    .dataframe tbody tr th:only-of-type {\n",
              "        vertical-align: middle;\n",
              "    }\n",
              "\n",
              "    .dataframe tbody tr th {\n",
              "        vertical-align: top;\n",
              "    }\n",
              "\n",
              "    .dataframe thead th {\n",
              "        text-align: right;\n",
              "    }\n",
              "</style>\n",
              "<table border=\"1\" class=\"dataframe\">\n",
              "  <thead>\n",
              "    <tr style=\"text-align: right;\">\n",
              "      <th></th>\n",
              "      <th>Actual</th>\n",
              "      <th>Predicción</th>\n",
              "      <th>Diferencia</th>\n",
              "    </tr>\n",
              "  </thead>\n",
              "  <tbody>\n",
              "    <tr>\n",
              "      <th>0</th>\n",
              "      <td>12</td>\n",
              "      <td>77.607992</td>\n",
              "      <td>-65.607992</td>\n",
              "    </tr>\n",
              "    <tr>\n",
              "      <th>1</th>\n",
              "      <td>288</td>\n",
              "      <td>126.213703</td>\n",
              "      <td>161.786297</td>\n",
              "    </tr>\n",
              "    <tr>\n",
              "      <th>2</th>\n",
              "      <td>250</td>\n",
              "      <td>281.889999</td>\n",
              "      <td>-31.889999</td>\n",
              "    </tr>\n",
              "    <tr>\n",
              "      <th>3</th>\n",
              "      <td>12</td>\n",
              "      <td>77.607992</td>\n",
              "      <td>-65.607992</td>\n",
              "    </tr>\n",
              "    <tr>\n",
              "      <th>4</th>\n",
              "      <td>93</td>\n",
              "      <td>139.905009</td>\n",
              "      <td>-46.905009</td>\n",
              "    </tr>\n",
              "    <tr>\n",
              "      <th>5</th>\n",
              "      <td>288</td>\n",
              "      <td>257.338962</td>\n",
              "      <td>30.661038</td>\n",
              "    </tr>\n",
              "    <tr>\n",
              "      <th>6</th>\n",
              "      <td>65</td>\n",
              "      <td>98.480490</td>\n",
              "      <td>-33.480490</td>\n",
              "    </tr>\n",
              "    <tr>\n",
              "      <th>7</th>\n",
              "      <td>288</td>\n",
              "      <td>126.213703</td>\n",
              "      <td>161.786297</td>\n",
              "    </tr>\n",
              "  </tbody>\n",
              "</table>\n",
              "</div>"
            ],
            "text/plain": [
              "   Actual  Predicción  Diferencia\n",
              "0      12   77.607992  -65.607992\n",
              "1     288  126.213703  161.786297\n",
              "2     250  281.889999  -31.889999\n",
              "3      12   77.607992  -65.607992\n",
              "4      93  139.905009  -46.905009\n",
              "5     288  257.338962   30.661038\n",
              "6      65   98.480490  -33.480490\n",
              "7     288  126.213703  161.786297"
            ]
          },
          "metadata": {},
          "execution_count": 87
        }
      ]
    },
    {
      "cell_type": "code",
      "metadata": {
        "colab": {
          "base_uri": "https://localhost:8080/"
        },
        "id": "HwzPB4H2Ahxi",
        "outputId": "dd3f1f1c-f1a9-4819-d4d1-f861f4f3bda5"
      },
      "source": [
        "validacion[\"Diferencia\"].describe()"
      ],
      "execution_count": null,
      "outputs": [
        {
          "output_type": "execute_result",
          "data": {
            "text/plain": [
              "count     57.000000\n",
              "mean      -6.029116\n",
              "std       70.687310\n",
              "min     -128.402609\n",
              "25%      -55.389670\n",
              "50%      -31.889999\n",
              "75%       29.331546\n",
              "max      226.741840\n",
              "Name: Diferencia, dtype: float64"
            ]
          },
          "metadata": {},
          "execution_count": 91
        }
      ]
    },
    {
      "cell_type": "code",
      "metadata": {
        "colab": {
          "base_uri": "https://localhost:8080/"
        },
        "id": "NDPMAu6jA2XH",
        "outputId": "0cff7267-1e37-4230-e869-bfb5a9c87511"
      },
      "source": [
        "r2_score(y_test, y_pred)"
      ],
      "execution_count": null,
      "outputs": [
        {
          "output_type": "execute_result",
          "data": {
            "text/plain": [
              "0.7307837470600276"
            ]
          },
          "metadata": {},
          "execution_count": 76
        }
      ]
    },
    {
      "cell_type": "code",
      "metadata": {
        "colab": {
          "base_uri": "https://localhost:8080/",
          "height": 294
        },
        "id": "oEhQryNo_7ze",
        "outputId": "24ebbb7d-6bf5-4db8-d226-d5ca3aca354f"
      },
      "source": [
        "validacion_Log = pd.DataFrame({'Actual': y_test, 'Predicción': y_pred_Log, 'Diferencia': y_test-y_pred_Log})\n",
        "muestra_validacion_Log = validacion_Log.head(8)\n",
        "muestra_validacion_Log"
      ],
      "execution_count": null,
      "outputs": [
        {
          "output_type": "execute_result",
          "data": {
            "text/html": [
              "<div>\n",
              "<style scoped>\n",
              "    .dataframe tbody tr th:only-of-type {\n",
              "        vertical-align: middle;\n",
              "    }\n",
              "\n",
              "    .dataframe tbody tr th {\n",
              "        vertical-align: top;\n",
              "    }\n",
              "\n",
              "    .dataframe thead th {\n",
              "        text-align: right;\n",
              "    }\n",
              "</style>\n",
              "<table border=\"1\" class=\"dataframe\">\n",
              "  <thead>\n",
              "    <tr style=\"text-align: right;\">\n",
              "      <th></th>\n",
              "      <th>Actual</th>\n",
              "      <th>Predicción</th>\n",
              "      <th>Diferencia</th>\n",
              "    </tr>\n",
              "  </thead>\n",
              "  <tbody>\n",
              "    <tr>\n",
              "      <th>0</th>\n",
              "      <td>12</td>\n",
              "      <td>204</td>\n",
              "      <td>-192</td>\n",
              "    </tr>\n",
              "    <tr>\n",
              "      <th>1</th>\n",
              "      <td>288</td>\n",
              "      <td>300</td>\n",
              "      <td>-12</td>\n",
              "    </tr>\n",
              "    <tr>\n",
              "      <th>2</th>\n",
              "      <td>250</td>\n",
              "      <td>367</td>\n",
              "      <td>-117</td>\n",
              "    </tr>\n",
              "    <tr>\n",
              "      <th>3</th>\n",
              "      <td>12</td>\n",
              "      <td>204</td>\n",
              "      <td>-192</td>\n",
              "    </tr>\n",
              "    <tr>\n",
              "      <th>4</th>\n",
              "      <td>93</td>\n",
              "      <td>93</td>\n",
              "      <td>0</td>\n",
              "    </tr>\n",
              "    <tr>\n",
              "      <th>5</th>\n",
              "      <td>288</td>\n",
              "      <td>300</td>\n",
              "      <td>-12</td>\n",
              "    </tr>\n",
              "    <tr>\n",
              "      <th>6</th>\n",
              "      <td>65</td>\n",
              "      <td>510</td>\n",
              "      <td>-445</td>\n",
              "    </tr>\n",
              "    <tr>\n",
              "      <th>7</th>\n",
              "      <td>288</td>\n",
              "      <td>300</td>\n",
              "      <td>-12</td>\n",
              "    </tr>\n",
              "  </tbody>\n",
              "</table>\n",
              "</div>"
            ],
            "text/plain": [
              "   Actual  Predicción  Diferencia\n",
              "0      12         204        -192\n",
              "1     288         300         -12\n",
              "2     250         367        -117\n",
              "3      12         204        -192\n",
              "4      93          93           0\n",
              "5     288         300         -12\n",
              "6      65         510        -445\n",
              "7     288         300         -12"
            ]
          },
          "metadata": {},
          "execution_count": 90
        }
      ]
    },
    {
      "cell_type": "code",
      "metadata": {
        "colab": {
          "base_uri": "https://localhost:8080/"
        },
        "id": "x4HSPbz9Asnu",
        "outputId": "e09894ca-3f15-436a-d93d-c3a30c116716"
      },
      "source": [
        "validacion_Log[\"Diferencia\"].describe()"
      ],
      "execution_count": null,
      "outputs": [
        {
          "output_type": "execute_result",
          "data": {
            "text/plain": [
              "count     57.000000\n",
              "mean     -78.824561\n",
              "std      149.848748\n",
              "min     -445.000000\n",
              "25%     -192.000000\n",
              "50%      -12.000000\n",
              "75%        0.000000\n",
              "max      296.000000\n",
              "Name: Diferencia, dtype: float64"
            ]
          },
          "metadata": {},
          "execution_count": 92
        }
      ]
    },
    {
      "cell_type": "code",
      "metadata": {
        "colab": {
          "base_uri": "https://localhost:8080/"
        },
        "id": "P086uWkSAy7-",
        "outputId": "c3f1ec3d-92ee-4e0a-e279-6f928530b2e3"
      },
      "source": [
        "r2_score(y_test, y_pred_Log)"
      ],
      "execution_count": null,
      "outputs": [
        {
          "output_type": "execute_result",
          "data": {
            "text/plain": [
              "-0.5391775286067784"
            ]
          },
          "metadata": {},
          "execution_count": 77
        }
      ]
    },
    {
      "cell_type": "code",
      "metadata": {
        "colab": {
          "base_uri": "https://localhost:8080/",
          "height": 295
        },
        "id": "dSSHagWHBmCj",
        "outputId": "2101405a-de6a-493d-8126-900bffea6e67"
      },
      "source": [
        "muestra_validacion.plot.bar(rot=0)  # crear el grafico con los vlaores de la validacion\n",
        "\n",
        "plt.title(\"Comparación REGRESION LINEAL de calorías actuales y de predicción\") # titulo\n",
        "\n",
        "plt.xlabel(\"Muestra de alimentos\") # eje x\n",
        "\n",
        "plt.ylabel(\"Cantidad de calorías\") # eje y\n",
        "\n",
        "plt.show()"
      ],
      "execution_count": null,
      "outputs": [
        {
          "output_type": "display_data",
          "data": {
            "image/png": "[encoded data removed]",
            "text/plain": [
              "<Figure size 432x288 with 1 Axes>"
            ]
          },
          "metadata": {
            "needs_background": "light"
          }
        }
      ]
    },
    {
      "cell_type": "code",
      "metadata": {
        "colab": {
          "base_uri": "https://localhost:8080/",
          "height": 295
        },
        "id": "4WTmznufCDAb",
        "outputId": "2f29ccb9-2749-46f3-9ae8-3f4b62f06b2a"
      },
      "source": [
        "muestra_validacion_Log.plot.bar(rot=0)  # crear el grafico con los vlaores de la validacion\n",
        "\n",
        "plt.title(\"Comparación REGRESION LOGISTICA de calorías actuales y de predicción\") # titulo\n",
        "\n",
        "plt.xlabel(\"Muestra de alimentos\") # eje x\n",
        "\n",
        "plt.ylabel(\"Cantidad de calorías\") # eje y\n",
        "\n",
        "plt.show()"
      ],
      "execution_count": null,
      "outputs": [
        {
          "output_type": "display_data",
          "data": {
            "image/png": "[encoded data removed]",
            "text/plain": [
              "<Figure size 432x288 with 1 Axes>"
            ]
          },
          "metadata": {
            "needs_background": "light"
          }
        }
      ]
    }
  ]
}