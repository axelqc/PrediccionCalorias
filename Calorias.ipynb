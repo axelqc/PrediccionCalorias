{
  "nbformat": 4,
  "nbformat_minor": 0,
  "metadata": {
    "colab": {
      "provenance": []
    },
    "kernelspec": {
      "name": "python3",
      "display_name": "Python 3"
    },
    "language_info": {
      "name": "python"
    }
  },
  "cells": [
    {
      "cell_type": "markdown",
      "metadata": {
        "id": "2W5p__ocyQbY"
      },
      "source": [
        "### Estimando el efecto del consumo calórico en el tiempo"
      ]
    },
    {
      "cell_type": "markdown",
      "metadata": {
        "id": "LS_FWMRcyT0e"
      },
      "source": [
        "Nombre: Axel Quiroga\n",
        "\n",
        "\n",
        "ID: A00832676\n",
        "\n",
        "Materia: Matemáticas y ciencias de datos para la toma de decisiones\n",
        "\n",
        "\n",
        "Profesor:  Ivan Martínez Ruiz y Germán Domínguez Solís\n",
        "\n",
        "\n",
        "Fecha: 11/20/2021\n",
        "\n",
        "\n",
        "Link: https://colab.research.google.com/drive/1aL73lO5zdJBrwZwwRz11luaeay6P_xZD?usp=sharing"
      ]
    },
    {
      "cell_type": "markdown",
      "metadata": {
        "id": "4MlMqo1i2JXf"
      },
      "source": [
        "Cargando datos"
      ]
    },
    {
      "cell_type": "code",
      "metadata": {
        "id": "HGFwUm_PyGsX"
      },
      "source": [
        "import pandas as pd\n",
        "\n",
        "datos_consumo = pd.read_excel('datos.xlsx')"
      ],
      "execution_count": null,
      "outputs": []
    },
    {
      "cell_type": "code",
      "metadata": {
        "colab": {
          "base_uri": "https://localhost:8080/",
          "height": 206
        },
        "id": "zXxddjTlyn_P",
        "outputId": "7c0d3d99-9de6-43a3-ed7e-a2dd9aaebc18"
      },
      "source": [
        "datos_consumo.head()"
      ],
      "execution_count": null,
      "outputs": [
        {
          "output_type": "execute_result",
          "data": {
            "text/html": [
              "<div>\n",
              "<style scoped>\n",
              "    .dataframe tbody tr th:only-of-type {\n",
              "        vertical-align: middle;\n",
              "    }\n",
              "\n",
              "    .dataframe tbody tr th {\n",
              "        vertical-align: top;\n",
              "    }\n",
              "\n",
              "    .dataframe thead th {\n",
              "        text-align: right;\n",
              "    }\n",
              "</style>\n",
              "<table border=\"1\" class=\"dataframe\">\n",
              "  <thead>\n",
              "    <tr style=\"text-align: right;\">\n",
              "      <th></th>\n",
              "      <th>Fecha (dd/mm/aa)</th>\n",
              "      <th>Momento</th>\n",
              "      <th>Nombre alimento</th>\n",
              "      <th>Calorías (kcal)</th>\n",
              "      <th>Carbohidratos (g)</th>\n",
              "      <th>Lípidos/grasas (g)</th>\n",
              "      <th>Proteína (g)</th>\n",
              "      <th>Sodio (mg)</th>\n",
              "    </tr>\n",
              "  </thead>\n",
              "  <tbody>\n",
              "    <tr>\n",
              "      <th>0</th>\n",
              "      <td>16/08/2021</td>\n",
              "      <td>Desayuno</td>\n",
              "      <td>Atun en lata</td>\n",
              "      <td>93</td>\n",
              "      <td>2.32</td>\n",
              "      <td>1.00</td>\n",
              "      <td>21.00</td>\n",
              "      <td>260.0</td>\n",
              "    </tr>\n",
              "    <tr>\n",
              "      <th>1</th>\n",
              "      <td>16/08/2021</td>\n",
              "      <td>Snack</td>\n",
              "      <td>Rebanada de pastel</td>\n",
              "      <td>340</td>\n",
              "      <td>50.73</td>\n",
              "      <td>14.34</td>\n",
              "      <td>5.04</td>\n",
              "      <td>299.0</td>\n",
              "    </tr>\n",
              "    <tr>\n",
              "      <th>2</th>\n",
              "      <td>16/08/2021</td>\n",
              "      <td>Comida</td>\n",
              "      <td>Carne molida</td>\n",
              "      <td>276</td>\n",
              "      <td>1.32</td>\n",
              "      <td>18.58</td>\n",
              "      <td>23.35</td>\n",
              "      <td>400.0</td>\n",
              "    </tr>\n",
              "    <tr>\n",
              "      <th>3</th>\n",
              "      <td>16/08/2021</td>\n",
              "      <td>Comida</td>\n",
              "      <td>1 quesadilla</td>\n",
              "      <td>171</td>\n",
              "      <td>10.53</td>\n",
              "      <td>9.90</td>\n",
              "      <td>9.50</td>\n",
              "      <td>409.0</td>\n",
              "    </tr>\n",
              "    <tr>\n",
              "      <th>4</th>\n",
              "      <td>16/08/2021</td>\n",
              "      <td>Comida</td>\n",
              "      <td>Ensalada</td>\n",
              "      <td>12</td>\n",
              "      <td>2.77</td>\n",
              "      <td>0.12</td>\n",
              "      <td>0.63</td>\n",
              "      <td>14.0</td>\n",
              "    </tr>\n",
              "  </tbody>\n",
              "</table>\n",
              "</div>"
            ],
            "text/plain": [
              "  Fecha (dd/mm/aa)   Momento  ... Proteína (g)  Sodio (mg)\n",
              "0       16/08/2021  Desayuno  ...        21.00       260.0\n",
              "1       16/08/2021     Snack  ...         5.04       299.0\n",
              "2       16/08/2021   Comida   ...        23.35       400.0\n",
              "3       16/08/2021   Comida   ...         9.50       409.0\n",
              "4       16/08/2021   Comida   ...         0.63        14.0\n",
              "\n",
              "[5 rows x 8 columns]"
            ]
          },
          "metadata": {},
          "execution_count": 6
        }
      ]
    },
    {
      "cell_type": "markdown",
      "metadata": {
        "id": "QlX2W3xX2P7W"
      },
      "source": [
        "Seleccionando los datos que necesitamos"
      ]
    },
    {
      "cell_type": "code",
      "metadata": {
        "id": "V2a33t3byvwm"
      },
      "source": [
        "datos_Fecha_kal = datos_consumo[[\"Fecha (dd/mm/aa)\", \"Calorías (kcal)\"]]"
      ],
      "execution_count": null,
      "outputs": []
    },
    {
      "cell_type": "code",
      "metadata": {
        "colab": {
          "base_uri": "https://localhost:8080/",
          "height": 206
        },
        "id": "g8B56-WzzBKe",
        "outputId": "c95ff32b-771b-4b9e-d22b-7194fb4287e5"
      },
      "source": [
        "datos_Fecha_kal.head()"
      ],
      "execution_count": null,
      "outputs": [
        {
          "output_type": "execute_result",
          "data": {
            "text/html": [
              "<div>\n",
              "<style scoped>\n",
              "    .dataframe tbody tr th:only-of-type {\n",
              "        vertical-align: middle;\n",
              "    }\n",
              "\n",
              "    .dataframe tbody tr th {\n",
              "        vertical-align: top;\n",
              "    }\n",
              "\n",
              "    .dataframe thead th {\n",
              "        text-align: right;\n",
              "    }\n",
              "</style>\n",
              "<table border=\"1\" class=\"dataframe\">\n",
              "  <thead>\n",
              "    <tr style=\"text-align: right;\">\n",
              "      <th></th>\n",
              "      <th>Fecha (dd/mm/aa)</th>\n",
              "      <th>Calorías (kcal)</th>\n",
              "    </tr>\n",
              "  </thead>\n",
              "  <tbody>\n",
              "    <tr>\n",
              "      <th>0</th>\n",
              "      <td>16/08/2021</td>\n",
              "      <td>93</td>\n",
              "    </tr>\n",
              "    <tr>\n",
              "      <th>1</th>\n",
              "      <td>16/08/2021</td>\n",
              "      <td>340</td>\n",
              "    </tr>\n",
              "    <tr>\n",
              "      <th>2</th>\n",
              "      <td>16/08/2021</td>\n",
              "      <td>276</td>\n",
              "    </tr>\n",
              "    <tr>\n",
              "      <th>3</th>\n",
              "      <td>16/08/2021</td>\n",
              "      <td>171</td>\n",
              "    </tr>\n",
              "    <tr>\n",
              "      <th>4</th>\n",
              "      <td>16/08/2021</td>\n",
              "      <td>12</td>\n",
              "    </tr>\n",
              "  </tbody>\n",
              "</table>\n",
              "</div>"
            ],
            "text/plain": [
              "  Fecha (dd/mm/aa)  Calorías (kcal)\n",
              "0       16/08/2021               93\n",
              "1       16/08/2021              340\n",
              "2       16/08/2021              276\n",
              "3       16/08/2021              171\n",
              "4       16/08/2021               12"
            ]
          },
          "metadata": {},
          "execution_count": 8
        }
      ]
    },
    {
      "cell_type": "code",
      "metadata": {
        "colab": {
          "base_uri": "https://localhost:8080/"
        },
        "id": "Yu1iBNNYzD_X",
        "outputId": "35412707-75f1-43b6-b816-03b4667da1b6"
      },
      "source": [
        "sumatoria_calorias = datos_Fecha_kal[\"Calorías (kcal)\"].sum()\n",
        "sumatoria_calorias"
      ],
      "execution_count": null,
      "outputs": [
        {
          "output_type": "execute_result",
          "data": {
            "text/plain": [
              "63036"
            ]
          },
          "metadata": {},
          "execution_count": 9
        }
      ]
    },
    {
      "cell_type": "code",
      "metadata": {
        "colab": {
          "base_uri": "https://localhost:8080/"
        },
        "id": "3vkz-iZjzZ1J",
        "outputId": "485548f0-ccc7-41c9-cc74-3ec64406c44a"
      },
      "source": [
        "dias = datos_Fecha_kal[\"Fecha (dd/mm/aa)\"].nunique()\n",
        "dias"
      ],
      "execution_count": null,
      "outputs": [
        {
          "output_type": "execute_result",
          "data": {
            "text/plain": [
              "61"
            ]
          },
          "metadata": {},
          "execution_count": 10
        }
      ]
    },
    {
      "cell_type": "code",
      "metadata": {
        "colab": {
          "base_uri": "https://localhost:8080/"
        },
        "id": "v9ujuLBDzrMB",
        "outputId": "0b0bfefc-0974-41f2-f0bc-8d3abb7c665d"
      },
      "source": [
        "calorias_promedio = sumatoria_calorias/dias\n",
        "print(f\"Tu promedio de calorías consumidas en días es: {round(calorias_promedio,2)}\")"
      ],
      "execution_count": null,
      "outputs": [
        {
          "output_type": "stream",
          "name": "stdout",
          "text": [
            "Tu promedio de calorías consumidas en días es: 1033.38\n"
          ]
        }
      ]
    },
    {
      "cell_type": "markdown",
      "metadata": {
        "id": "1OqQ3O2H0Y0p"
      },
      "source": [
        "Inputs"
      ]
    },
    {
      "cell_type": "code",
      "metadata": {
        "colab": {
          "base_uri": "https://localhost:8080/"
        },
        "id": "oHGbdem50cN9",
        "outputId": "92d4151a-dff8-4049-894a-645d3b3563ee"
      },
      "source": [
        "peso = int(input(\"Ingrese su peso en kilogramos: \"))\n",
        "\n",
        "altura = int(input(\"Ingrese su altura en centimetros: \"))\n",
        "\n",
        "edad = int(input(\"Ingrese su edad en años: \"))\n",
        "\n",
        "genero = input(\"Ingrese su género, Mujer/Hombre: \")"
      ],
      "execution_count": null,
      "outputs": [
        {
          "name": "stdout",
          "output_type": "stream",
          "text": [
            "Ingrese su peso en kilogramos: 72\n",
            "Ingrese su altura en centimetros: 174\n",
            "Ingrese su edad en años: 17\n",
            "Ingrese su género, Mujer/Hombre: Hombre\n"
          ]
        }
      ]
    },
    {
      "cell_type": "code",
      "metadata": {
        "colab": {
          "base_uri": "https://localhost:8080/"
        },
        "id": "0UGjMLMM0rsP",
        "outputId": "ad63d0f8-85a2-42ea-b21a-d06bbd35807c"
      },
      "source": [
        "while True:\n",
        "  if genero == \"Mujer\":\n",
        "    calorias_requeridas =  655+(9.56*peso)+(1.85*altura)-(4.68*edad)\n",
        "    break\n",
        "\n",
        "  elif genero == \"Hombre\":\n",
        "    calorías_requeridas = 66.5+(13.75*peso)+(5*altura)-(6.8*edad)\n",
        "    break\n",
        "\n",
        "  else:\n",
        "    print('Ingrese nuevamente el genero')\n",
        "    genero = input(\"Ingrese su género, Mujer/Hombre: \")\n",
        "    continue\n",
        "\n",
        "print(f\"En base a tus datos, las calorias requeridas por dia son: {calorías_requeridas} caloriass\")\n",
        ""
      ],
      "execution_count": null,
      "outputs": [
        {
          "output_type": "stream",
          "name": "stdout",
          "text": [
            "En base a tus datos, las calorias requeridas por dia son: 1810.9 caloriass\n"
          ]
        }
      ]
    },
    {
      "cell_type": "code",
      "metadata": {
        "colab": {
          "base_uri": "https://localhost:8080/"
        },
        "id": "IOitCrol18Hg",
        "outputId": "62289cd6-3539-470a-a3f1-190b8a4facd0"
      },
      "source": [
        "diferencia = calorias_promedio - calorías_requeridas\n",
        "diferencia"
      ],
      "execution_count": null,
      "outputs": [
        {
          "output_type": "execute_result",
          "data": {
            "text/plain": [
              "-777.5229508196721"
            ]
          },
          "metadata": {},
          "execution_count": 15
        }
      ]
    },
    {
      "cell_type": "markdown",
      "metadata": {
        "id": "_jeCmcP12Gh_"
      },
      "source": [
        "Aproximacion"
      ]
    },
    {
      "cell_type": "code",
      "metadata": {
        "colab": {
          "base_uri": "https://localhost:8080/"
        },
        "id": "Cvsj3Dsu2FB-",
        "outputId": "0ee16c7d-af4c-431d-977e-4d03b728fc01"
      },
      "source": [
        "efecto_anual = diferencia * 450/3500 * 365 /1000\n",
        "\n",
        "print(f\"Si continuas con tu consumo calorico actual, en un año tu cambio de masa corporal seria aproximadmente de {round(efecto_anual, 2)} kg\")"
      ],
      "execution_count": null,
      "outputs": [
        {
          "output_type": "stream",
          "name": "stdout",
          "text": [
            "Si continuas con tu consumo calorico actual, en un año tu cambio de masa corporal seria aproximadmente de -36.49 kg\n"
          ]
        }
      ]
    }
  ]
}